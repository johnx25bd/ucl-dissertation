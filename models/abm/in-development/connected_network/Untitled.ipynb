{
 "cells": [
  {
   "cell_type": "code",
   "execution_count": 99,
   "metadata": {},
   "outputs": [],
   "source": [
    "from web3 import Web3\n",
    "import time"
   ]
  },
  {
   "cell_type": "code",
   "execution_count": 86,
   "metadata": {},
   "outputs": [],
   "source": [
    "nonce = 2\n"
   ]
  },
  {
   "cell_type": "code",
   "execution_count": 87,
   "metadata": {},
   "outputs": [],
   "source": [
    "def getNonce():\n",
    "    global nonce \n",
    "    n = nonce + 1\n",
    "    nonce = n\n",
    "    return n\n"
   ]
  },
  {
   "cell_type": "code",
   "execution_count": 19,
   "metadata": {},
   "outputs": [],
   "source": [
    "web3 = Web3(Web3.HTTPProvider(\"http://127.0.0.1:8545\"))"
   ]
  },
  {
   "cell_type": "code",
   "execution_count": 20,
   "metadata": {},
   "outputs": [
    {
     "data": {
      "text/plain": [
       "['0x70B1Ca93246B4816b7ED4B55ebB61b775300A528',\n",
       " '0x02707813529A8C21c72D7D1946aB9D39c6449D4C',\n",
       " '0xA5D914ba002f3Ed42E77e4137052ee247f2120a1',\n",
       " '0xD53989Bb52fB348f39cB825e987238Cabf068367',\n",
       " '0xFA40aA8a4dd56A2ecF8765642Cca17C132dFDb49',\n",
       " '0xb500b0aA269BB26Dd29453923799D3134B279098',\n",
       " '0xb851fCf36C27FDd84F29704129ae2Ba0a1666348',\n",
       " '0xACbA78670155a7Af1E28304c3d8d81Bd67150Fd1',\n",
       " '0x23A5Bbd1a51a4794BCF6E2874fcc2ab05cFcEd4D',\n",
       " '0x4F96A4A642435f523810703da6b413C3f8F52006']"
      ]
     },
     "execution_count": 20,
     "metadata": {},
     "output_type": "execute_result"
    }
   ],
   "source": [
    "web3.eth.accounts"
   ]
  },
  {
   "cell_type": "code",
   "execution_count": 49,
   "metadata": {},
   "outputs": [],
   "source": [
    "a = {\"public\": web3.eth.accounts[0].encode('utf-8'), \"private\": \"0x3042d0314a21683d5f946621c68a8369052a87ed4169a519e3ca6a8c678e9d6b\"}"
   ]
  },
  {
   "cell_type": "code",
   "execution_count": 97,
   "metadata": {},
   "outputs": [],
   "source": [
    "tx = {\n",
    "     'to': '0x4F96A4A642435f523810703da6b413C3f8F52006',\n",
    "     'value': web3.toWei('1', 'ether'),\n",
    "     'gas': 2000000,\n",
    "     'gasPrice': web3.toWei('25', 'gwei'),\n",
    "     'nonce': getNonce(),\n",
    "     'chainId': 1\n",
    "}"
   ]
  },
  {
   "cell_type": "code",
   "execution_count": 100,
   "metadata": {},
   "outputs": [
    {
     "name": "stdout",
     "output_type": "stream",
     "text": [
      "0.009180999999999884\n"
     ]
    }
   ],
   "source": [
    "t = time.clock()\n",
    "signed = web3.eth.account.signTransaction(tx, a['private'])\n",
    "duration = time.clock() - t\n",
    "print(duration)"
   ]
  },
  {
   "cell_type": "code",
   "execution_count": 96,
   "metadata": {},
   "outputs": [
    {
     "data": {
      "text/plain": [
       "HexBytes('0xbd9a77771db70079fa3557ac59a76e6f7ffaad9b7cc060e54af583d760a4f1ed')"
      ]
     },
     "execution_count": 96,
     "metadata": {},
     "output_type": "execute_result"
    }
   ],
   "source": [
    "web3.eth.sendRawTransaction(signed.rawTransaction)"
   ]
  },
  {
   "cell_type": "code",
   "execution_count": null,
   "metadata": {},
   "outputs": [],
   "source": []
  },
  {
   "cell_type": "code",
   "execution_count": null,
   "metadata": {},
   "outputs": [],
   "source": []
  }
 ],
 "metadata": {
  "kernelspec": {
   "display_name": "Python 3",
   "language": "python",
   "name": "python3"
  },
  "language_info": {
   "codemirror_mode": {
    "name": "ipython",
    "version": 3
   },
   "file_extension": ".py",
   "mimetype": "text/x-python",
   "name": "python",
   "nbconvert_exporter": "python",
   "pygments_lexer": "ipython3",
   "version": "3.6.8"
  }
 },
 "nbformat": 4,
 "nbformat_minor": 2
}
