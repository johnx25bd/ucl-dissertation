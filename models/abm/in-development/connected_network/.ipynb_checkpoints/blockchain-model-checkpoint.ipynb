{
 "cells": [
  {
   "cell_type": "code",
   "execution_count": 1,
   "metadata": {},
   "outputs": [],
   "source": [
    "import sys\n",
    "import math\n",
    "import copy\n",
    "import random\n",
    "import pandas as pd\n",
    "import numpy as np\n",
    "import pickle\n",
    "import matplotlib.pyplot as plt\n",
    "\n",
    "from mesa import Agent\n",
    "from mesa import Model\n",
    "from mesa.datacollection import DataCollector\n",
    "from mesa.space import Grid\n",
    "from mesa.time import RandomActivation\n",
    "from mesa.batchrunner import BatchRunner\n",
    "\n",
    "from SensorBlockchainNetwork.Agents import *\n",
    "from SensorBlockchainNetwork.Network import *\n",
    "from SensorBlockchainNetwork.functions import *"
   ]
  },
  {
   "cell_type": "code",
   "execution_count": 2,
   "metadata": {},
   "outputs": [],
   "source": [
    "model = SensorBlockchainNetwork(\n",
    "#     blockchain_gas_price= 20,\n",
    "    block_gas_limit=8000000,\n",
    "    gas_per_byte= 625,\n",
    "    gas_per_second= 75000000,\n",
    "    avg_block_time=13,\n",
    "    verbose=False,\n",
    "    battery_life=10000,\n",
    "    mortal= True, \n",
    "    num_sensors=50,\n",
    "    stochasticity=0.05,\n",
    "    record_bytes=16, \n",
    "    info_currency_window=30)"
   ]
  },
  {
   "cell_type": "code",
   "execution_count": 3,
   "metadata": {},
   "outputs": [
    {
     "name": "stderr",
     "output_type": "stream",
     "text": [
      "/Users/iv/anaconda3/lib/python3.6/site-packages/pandas/core/frame.py:6211: FutureWarning: Sorting because non-concatenation axis is not aligned. A future version\n",
      "of pandas will change to not sort by default.\n",
      "\n",
      "To accept the future behavior, pass 'sort=False'.\n",
      "\n",
      "To retain the current behavior and silence the warning, pass 'sort=True'.\n",
      "\n",
      "  sort=sort)\n"
     ]
    }
   ],
   "source": [
    "for i in range(100):\n",
    "    model.step()"
   ]
  },
  {
   "cell_type": "code",
   "execution_count": null,
   "metadata": {},
   "outputs": [],
   "source": []
  },
  {
   "cell_type": "markdown",
   "metadata": {},
   "source": [
    "# Model Execution and Analysis"
   ]
  },
  {
   "cell_type": "markdown",
   "metadata": {},
   "source": [
    "Here we instantiate a mesa BatchRunner object, which contains methods for iterating through the arrays of variable parameters we pass in and executing a model for each arrangement. As a result we can access a pandas dataframe that contains all the agent, model tick and model run variables, as defined in the SensorBlockchainNetwork class definition, and in the model_reporters parameter passed into the BatchRunner object instantiation. \n",
    "\n",
    "We pass this dataframe into the following functions to extract relevant data and metrics, to be analyzed and visualized to discern system dynamic across the range of parameters swept. "
   ]
  },
  {
   "cell_type": "code",
   "execution_count": null,
   "metadata": {},
   "outputs": [],
   "source": []
  },
  {
   "cell_type": "markdown",
   "metadata": {},
   "source": [
    "# Initial parameter sweep\n",
    "\n",
    "Our initial batch run swept across several values in several dimensions. We collected a lot of data, and analyzed it to identify areas where a more specific sweep would be sensible. "
   ]
  },
  {
   "cell_type": "markdown",
   "metadata": {},
   "source": [
    "## Sweeping Independent Variables"
   ]
  },
  {
   "cell_type": "code",
   "execution_count": 13,
   "metadata": {},
   "outputs": [],
   "source": [
    "fixed_params = {\n",
    "    \n",
    "    # Model variables \n",
    "    \"stochasticity\": 0.05,\n",
    "    \"num_sensors\": 20,\n",
    "    \"info_currency_window\": 30,\n",
    "\n",
    "    # Blockchain variables\n",
    "    \"block_gas_limit\": 8000000,\n",
    "    \"gas_per_byte\": 625,\n",
    "    \n",
    "    # Sensor variables\n",
    "    \"verbose\": False,\n",
    "    \"battery_life\": 10000,\n",
    "    \"mortal\": False,\n",
    "    \"record_bytes\": 16,\n",
    "    \"record_freq\": 0.3\n",
    "    \n",
    "}"
   ]
  },
  {
   "cell_type": "markdown",
   "metadata": {},
   "source": [
    "#### Fixed Parameters"
   ]
  },
  {
   "cell_type": "code",
   "execution_count": 14,
   "metadata": {},
   "outputs": [
    {
     "name": "stderr",
     "output_type": "stream",
     "text": [
      "0it [00:00, ?it/s]/Users/iv/anaconda3/lib/python3.6/site-packages/pandas/core/frame.py:6211: FutureWarning: Sorting because non-concatenation axis is not aligned. A future version\n",
      "of pandas will change to not sort by default.\n",
      "\n",
      "To accept the future behavior, pass 'sort=False'.\n",
      "\n",
      "To retain the current behavior and silence the warning, pass 'sort=True'.\n",
      "\n",
      "  sort=sort)\n",
      "3it [01:18, 26.20s/it]\n"
     ]
    }
   ],
   "source": [
    "variable_params = {}\n",
    "\n",
    "batch_runner = BatchRunner(\n",
    "    SensorBlockchainNetwork,\n",
    "    variable_params,\n",
    "    fixed_params,\n",
    "    iterations = 3,\n",
    "    max_steps = 300,\n",
    "    model_reporters = {\"agent_vars_by_tick\": get_agent_vars_by_tick,\n",
    "                   \"model_vars_by_tick\": get_model_vars_by_tick,\n",
    "                   \"mining_summary\": get_mining_summary},\n",
    "        \n",
    "#     agent_reporters = {\"expiry_ticks\": \"dead\"}\n",
    "\n",
    ")\n",
    "\n",
    "\n",
    "batch_runner.run_all()\n",
    "pickle_batch_run_results(batch_runner, './data/final/batch_run_fixed_params.pkl')"
   ]
  },
  {
   "cell_type": "code",
   "execution_count": null,
   "metadata": {},
   "outputs": [],
   "source": [
    "fixed_params_record_freq = copy.deepcopy(fixed_params)\n",
    "del fixed_params_record_freq['record_freq']\n",
    "fixed_params_record_freq['num_sensors'] = 40\n",
    "\n",
    "\n",
    "variable_params_record_freq = {\n",
    "#         \"record_freq\": np.linspace(0.9, 1.0, 10)\n",
    "    \"record_freq\": [0.01, 0.1, 0.3, 0.5, 0.7, 0.9, 1]\n",
    "}\n",
    "\n",
    "batch_runner_record_freq = BatchRunner(\n",
    "    SensorBlockchainNetwork,\n",
    "    variable_params_record_freq,\n",
    "    fixed_params_record_freq,\n",
    "    iterations = 3,\n",
    "    max_steps = 300,\n",
    "    model_reporters = {\"agent_vars_by_tick\": get_agent_vars_by_tick,\n",
    "                   \"model_vars_by_tick\": get_model_vars_by_tick,\n",
    "                   \"mining_summary\": get_mining_summary},\n",
    "        \n",
    "    agent_reporters = {\"expiry_ticks\": \"dead\"}\n",
    "\n",
    ")\n",
    "\n",
    "batch_runner_record_freq.run_all()\n",
    "# pickle_batch_run_results(batch_runner_record_freq, './data/run-4/batch_run_4_40_sensors_record_freq_full_sweep.pkl')"
   ]
  },
  {
   "cell_type": "code",
   "execution_count": null,
   "metadata": {},
   "outputs": [],
   "source": [
    "fixed_params_num_sensors = copy.deepcopy(fixed_params)\n",
    "del fixed_params_num_sensors['num_sensors']\n",
    "\n",
    "variable_params_num_sensors = {\n",
    "    \"num_sensors\": np.arange(0, 501, 50)[1:]\n",
    "}\n",
    "\n",
    "batch_runner_num_sensors = BatchRunner(\n",
    "    SensorBlockchainNetwork,\n",
    "    variable_params_num_sensors,\n",
    "    fixed_params_num_sensors,\n",
    "    iterations = 3,\n",
    "    max_steps = 300,\n",
    "    \n",
    "    model_reporters = {\"agent_vars_by_tick\": get_agent_vars_by_tick,\n",
    "                   \"model_vars_by_tick\": get_model_vars_by_tick,\n",
    "                   \"mining_summary\": get_mining_summary},\n",
    "\n",
    "    agent_reporters = {\"expiry_ticks\": \"dead\"}\n",
    ")\n",
    "\n",
    "batch_runner_num_sensors.run_all()\n",
    "# pickle_batch_run_results(batch_runner_num_sensors, './data/run-4/batch_run_5-iterations_num_sensors.pkl')"
   ]
  },
  {
   "cell_type": "code",
   "execution_count": null,
   "metadata": {},
   "outputs": [],
   "source": [
    "fixed_params_record_bytes = copy.deepcopy(fixed_params)\n",
    "del fixed_params_record_bytes['record_bytes']\n",
    "\n",
    "variable_params_record_bytes = {\n",
    "    \"record_bytes\": np.arange(1, 520, 20)\n",
    "}\n",
    "\n",
    "batch_runner_record_bytes = BatchRunner(\n",
    "    SensorBlockchainNetwork,\n",
    "    variable_params_record_bytes,\n",
    "    fixed_params_record_bytes,\n",
    "    iterations = 3,\n",
    "    max_steps = 300,\n",
    "    model_reporters = {\"agent_vars_by_tick\": get_agent_vars_by_tick,\n",
    "                       \"model_vars_by_tick\": get_model_vars_by_tick,\n",
    "                       \"mining_summary\": get_mining_summary},\n",
    "    \n",
    "    agent_reporters = {\"expiry_ticks\": \"dead\"}\n",
    ")\n",
    "\n",
    "batch_runner_record_bytes.run_all()\n",
    "# pickle_batch_run_results(batch_runner_record_bytes, './data/run-4/batch_run_1_record_bytes.pkl')"
   ]
  },
  {
   "cell_type": "code",
   "execution_count": 20,
   "metadata": {},
   "outputs": [
    {
     "data": {
      "text/plain": [
       "array([  0.,  -1.,  -2.,  -3.,  -4.,  -5.,  -6.,  -7.,  -8.,  -9., -10.,\n",
       "       -11., -12., -13., -14., -15., -16., -17., -18., -19., -20., -21.,\n",
       "       -22., -23., -24., -25.])"
      ]
     },
     "execution_count": 20,
     "metadata": {},
     "output_type": "execute_result"
    }
   ],
   "source": [
    "(1 - np.arange(1, 520, 20)) / 20"
   ]
  },
  {
   "cell_type": "code",
   "execution_count": null,
   "metadata": {},
   "outputs": [],
   "source": []
  }
 ],
 "metadata": {
  "kernelspec": {
   "display_name": "Python 3",
   "language": "python",
   "name": "python3"
  },
  "language_info": {
   "codemirror_mode": {
    "name": "ipython",
    "version": 3
   },
   "file_extension": ".py",
   "mimetype": "text/x-python",
   "name": "python",
   "nbconvert_exporter": "python",
   "pygments_lexer": "ipython3",
   "version": "3.6.8"
  }
 },
 "nbformat": 4,
 "nbformat_minor": 2
}
