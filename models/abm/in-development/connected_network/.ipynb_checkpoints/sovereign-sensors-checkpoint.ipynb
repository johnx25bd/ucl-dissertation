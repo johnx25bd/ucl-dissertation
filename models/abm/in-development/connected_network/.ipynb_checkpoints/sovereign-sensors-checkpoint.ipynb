{
 "cells": [
  {
   "cell_type": "code",
   "execution_count": 1,
   "metadata": {},
   "outputs": [],
   "source": [
    "import random\n",
    "import pandas as pd\n",
    "import numpy as np\n",
    "import web3\n",
    "\n",
    "from mesa import Agent\n",
    "from mesa import Model\n",
    "from mesa.datacollection import DataCollector\n",
    "from mesa.space import Grid\n",
    "from mesa.time import RandomActivation"
   ]
  },
  {
   "cell_type": "code",
   "execution_count": 2,
   "metadata": {},
   "outputs": [],
   "source": [
    "class Costs():\n",
    "    \n",
    "    def __init__(self, record_cost, compute_cost, sign_cost, transmit_cost, stochastic):\n",
    "        \n",
    "        self.stochastic = stochastic\n",
    "        self.record_cost = record_cost\n",
    "        self.compute_cost = compute_cost\n",
    "        self.sign_cost = sign_cost\n",
    "        self.transmit_cost = transmit_cost\n",
    "        \n",
    "    def record(self):\n",
    "        if self.stochastic:\n",
    "            return self.record_cost # randomness!\n",
    "        else:\n",
    "            return self.record_cost\n",
    "    \n",
    "    def compute(self):\n",
    "        if self.stochastic:\n",
    "            return self.compute_cost # randomness!\n",
    "        else:\n",
    "            return self.compute_cost\n",
    "    \n",
    "    def sign(self):\n",
    "        return self.sign_cost\n",
    "    \n",
    "    def transmit(self):\n",
    "        if self.stochastic:\n",
    "            return self.transmit_cost # randomness!\n",
    "        else:\n",
    "            return self.transmit_cost"
   ]
  },
  {
   "cell_type": "code",
   "execution_count": 3,
   "metadata": {},
   "outputs": [],
   "source": [
    "\n",
    "class Sensor(Agent):\n",
    "    \"\"\"\n",
    "    An empirical sensor with battery, data store,\n",
    "    processor and information transceiver.\n",
    "\n",
    "    Attributes:\n",
    "        unique_id: Universally unique identifier. Here, a randomly generated id.\n",
    "            This could be a wallet address or public key, plus private key\n",
    "        battery_life: The amount of battery life. Portrayed in seconds of compute time.\n",
    "            If -999, the sensor is considered to be connected to a stable power source.\n",
    "        costs: The energy costs of each action the sensor is capable of taking:\n",
    "            record(), compute(), sign(), verify()?, and transmit().\n",
    "        chained: Boolean - whether sensor writes to blockchain or not. Indicates need to \n",
    "            invoke .sign() method before .transmit()\n",
    "        sync_freq: Defines frequency with which sensor transmits data to cloud or blockchain\n",
    "            n < 1 is probability of transmitting each tick; n > 1 syncs every n ticks\n",
    "\n",
    "\n",
    "    \"\"\"\n",
    "    \n",
    "    dead = False\n",
    "\n",
    "    def __init__(self, unique_id, battery_life, costs, chained, sync_freq, model):\n",
    "\n",
    "        super().__init__( unique_id, model )\n",
    "\n",
    "        self.agent_type = \"Sensor\"\n",
    "        self.unique_id = unique_id\n",
    "        self.battery_life = battery_life\n",
    "        self.costs = costs\n",
    "        self.chained = chained\n",
    "        self.sync_freq = sync_freq\n",
    "\n",
    "    def record(self):\n",
    "        self.battery_life = self.battery_life - self.costs.record()\n",
    "\n",
    "    def transmit(self):\n",
    "        if self.sync_freq < 1.0 and self.model.random.random() < self.sync_freq:\n",
    "                self.battery_life = self.battery_life -  self.costs.transmit()\n",
    "        else:\n",
    "            if self.model.schedule.steps % self.sync_freq == 0:\n",
    "                self.battery_life = self.battery_life -  self.costs.transmit()\n",
    "\n",
    "\n",
    "    def compute(self):\n",
    "        self.battery_life = self.battery_life - self.costs.compute()\n",
    "    \n",
    "    def sign(self):\n",
    "        if self.chained:\n",
    "            self.battery_life = self.battery_life - self.costs.sign()\n",
    "        else:\n",
    "            pass\n",
    "        \n",
    "    def step(self):\n",
    "        \"\"\"\n",
    "\n",
    "        \"\"\"\n",
    "        \n",
    "        if self.battery_life < 0 and not self.dead:\n",
    "            if self.model.verbose:\n",
    "                print(\"ID\", self.unique_id, 'is out of battery.')\n",
    "                \n",
    "            self.model.kill_agents.append(self)\n",
    "            self.dead = True\n",
    "            \n",
    "        if not self.dead:\n",
    "            self.record()\n",
    "            self.compute()\n",
    "            self.sign()\n",
    "            self.transmit()\n",
    "\n"
   ]
  },
  {
   "cell_type": "code",
   "execution_count": null,
   "metadata": {},
   "outputs": [],
   "source": [
    "class Cloud(Agent):\n",
    "    \"\"\"\n",
    "    A traditional cloud server storing and computing data \n",
    "    from sensors and serving data to users. \n",
    "    \n",
    "    hourly_cost: \n",
    "    uptime: A float value representing guaranteed uptime in SLA\n",
    "    \"\"\"\n",
    "    \n",
    "      \n",
    "    def __init__(self, ec2_type, usd_per_hour, sample_computation, usd_per_byte):\n",
    "    \n",
    "        self.ec2_type = ec2_type\n",
    "        self.usd_per_hour = usd_per_hour\n",
    "        self.usd_per_byte = usd_per_byte\n",
    "\n",
    "    def write_data(self, num_bytes):\n",
    "        \n",
    "    \n",
    "    def sample_computation(self):\n",
    "    \n",
    "    def calc_total_cost(self):\n",
    "        return self.usd_per_hour * self.model.schedule.steps\n",
    "        \n",
    "        \n",
    "    def step(self):\n",
    "        \n"
   ]
  },
  {
   "cell_type": "code",
   "execution_count": 4,
   "metadata": {},
   "outputs": [
    {
     "ename": "IndentationError",
     "evalue": "expected an indented block (<ipython-input-4-e2a09517c934>, line 12)",
     "output_type": "error",
     "traceback": [
      "\u001b[0;36m  File \u001b[0;32m\"<ipython-input-4-e2a09517c934>\"\u001b[0;36m, line \u001b[0;32m12\u001b[0m\n\u001b[0;31m    def compute(self, num_seconds):\u001b[0m\n\u001b[0m      ^\u001b[0m\n\u001b[0;31mIndentationError\u001b[0m\u001b[0;31m:\u001b[0m expected an indented block\n"
     ]
    }
   ],
   "source": [
    "class Blockchain(Agent):\n",
    "    \"\"\"\n",
    "    \"\"\"\n",
    "  \n",
    "    def __init__(self, eth_price, gas_cost, eth_per_byte, eth_per_second):\n",
    "        \n",
    "        self.eth_price = eth_price\n",
    "        self.gas_cost = gas_cost\n",
    "        self.eth_per_byte = 0.0006 / 32 # from Ryan 2017, Example Gas Costs\n",
    "        self.eth_per_second = eth_per_second\n",
    "        \n",
    "    def write_data(self, num_bytes):\n",
    "        return self.eth_per_byte * num_bytes\n",
    "        \n",
    "    def compute_cost_eth(self, num_seconds):\n",
    "        return self.eth_per_second * num_seconds\n",
    "\n",
    "    def read_data(self):\n",
    "        return 0\n",
    "\n",
    "    def step(self):\n",
    "        "
   ]
  },
  {
   "cell_type": "code",
   "execution_count": null,
   "metadata": {},
   "outputs": [],
   "source": [
    "class SensorNetwork(Model):\n",
    "    \n",
    "    \n",
    "    def __init__(self, num_sensors, record_cost, compute_cost, sign_cost, transmit_cost, stochastic, verbose):\n",
    "        \n",
    "        super().__init__()\n",
    "        \n",
    "        self.verbose = verbose\n",
    "        \n",
    "        self.kill_agents = []\n",
    "        \n",
    "        self.schedule = RandomActivation(self)\n",
    "        self.datacollector = DataCollector(\n",
    "            model_reporters = {\n",
    "                \"functional_sensors\": lambda m: self.count_active_sensors(m)\n",
    "            },\n",
    "            agent_reporters = {\"Battery\": \"battery_life\"}\n",
    "        )\n",
    "        \n",
    "        \n",
    "        for i in range(num_sensors):\n",
    "            costs = Costs(record_cost, compute_cost, sign_cost, transmit_cost, stochastic)\n",
    "            \n",
    "            sensor = Sensor(self.next_id(), 10, costs, True if i % 2 == 0 else False, 0.1, self)\n",
    "            self.schedule.add(sensor)\n",
    "            \n",
    "  \n",
    "            \n",
    "    def step(self):\n",
    "        self.schedule.step()\n",
    "        self.datacollector.collect(self)\n",
    "        \n",
    "        # Working out a bug described here https://github.com/projectmesa/mesa/issues/352\n",
    "        for a in self.kill_agents:\n",
    "            self.schedule.remove(a)\n",
    "        self.kill_agents = []\n",
    "\n",
    "    \n",
    "    @staticmethod\n",
    "    def count_active_sensors(model):\n",
    "        count = 0\n",
    "        for agent in model.schedule.agents:\n",
    "            if not agent.dead:\n",
    "                count += 1\n",
    "        return count\n",
    "        "
   ]
  },
  {
   "cell_type": "code",
   "execution_count": null,
   "metadata": {},
   "outputs": [],
   "source": [
    "\n",
    "m = SensorNetwork(20, 1,1,1,1, False, False)"
   ]
  },
  {
   "cell_type": "code",
   "execution_count": null,
   "metadata": {},
   "outputs": [],
   "source": [
    "len(m.schedule._agents)"
   ]
  },
  {
   "cell_type": "code",
   "execution_count": null,
   "metadata": {},
   "outputs": [],
   "source": [
    "for i in range(0, 100):\n",
    "    m.step()"
   ]
  },
  {
   "cell_type": "code",
   "execution_count": null,
   "metadata": {},
   "outputs": [],
   "source": [
    "agent_d = m.datacollector.get_agent_vars_dataframe()\n",
    "model_d = m.datacollector.get_model_vars_dataframe()"
   ]
  },
  {
   "cell_type": "code",
   "execution_count": null,
   "metadata": {},
   "outputs": [],
   "source": [
    "m.verbose"
   ]
  },
  {
   "cell_type": "code",
   "execution_count": null,
   "metadata": {},
   "outputs": [],
   "source": [
    "agent_d"
   ]
  },
  {
   "cell_type": "markdown",
   "metadata": {},
   "source": [
    "model_d"
   ]
  },
  {
   "cell_type": "code",
   "execution_count": null,
   "metadata": {},
   "outputs": [],
   "source": [
    "model_d"
   ]
  },
  {
   "cell_type": "code",
   "execution_count": null,
   "metadata": {},
   "outputs": [],
   "source": []
  }
 ],
 "metadata": {
  "kernelspec": {
   "display_name": "Python 3",
   "language": "python",
   "name": "python3"
  },
  "language_info": {
   "codemirror_mode": {
    "name": "ipython",
    "version": 3
   },
   "file_extension": ".py",
   "mimetype": "text/x-python",
   "name": "python",
   "nbconvert_exporter": "python",
   "pygments_lexer": "ipython3",
   "version": "3.6.8"
  }
 },
 "nbformat": 4,
 "nbformat_minor": 2
}
