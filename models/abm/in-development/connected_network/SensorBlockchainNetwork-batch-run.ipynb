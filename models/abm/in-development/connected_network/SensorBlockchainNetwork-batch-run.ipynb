{
 "cells": [
  {
   "cell_type": "code",
   "execution_count": 1,
   "metadata": {},
   "outputs": [],
   "source": [
    "from SensorBlockchainNetwork.SensorBlockchainNetwork import *"
   ]
  },
  {
   "cell_type": "code",
   "execution_count": 3,
   "metadata": {},
   "outputs": [],
   "source": [
    "model = SensorBlockchainNetwork(\n",
    "    blockchain_gas_price= 20,\n",
    "    block_gas_limit=8000000,\n",
    "    gas_per_byte= 625,\n",
    "    gas_per_second= 75000000,\n",
    "    avg_block_time=13,\n",
    "    verbose=False,\n",
    "    battery_life=10000,\n",
    "    mortal= True, \n",
    "    num_sensors=10,\n",
    "    stochasticity=0,\n",
    "    record_bytes=32, \n",
    "    info_currency_window=20)"
   ]
  },
  {
   "cell_type": "code",
   "execution_count": 4,
   "metadata": {},
   "outputs": [
    {
     "name": "stderr",
     "output_type": "stream",
     "text": [
      "/Users/iv/anaconda3/lib/python3.6/site-packages/pandas/core/frame.py:6211: FutureWarning: Sorting because non-concatenation axis is not aligned. A future version\n",
      "of pandas will change to not sort by default.\n",
      "\n",
      "To accept the future behavior, pass 'sort=False'.\n",
      "\n",
      "To retain the current behavior and silence the warning, pass 'sort=True'.\n",
      "\n",
      "  sort=sort)\n"
     ]
    }
   ],
   "source": [
    "for i in range(100):\n",
    "    model.step()"
   ]
  },
  {
   "cell_type": "code",
   "execution_count": 9,
   "metadata": {},
   "outputs": [],
   "source": [
    "fixed_params = {\n",
    "    \"blockchain_gas_price\": 20,\n",
    "    \"block_gas_limit\": 8000000,\n",
    "    \"gas_per_byte\": 625,\n",
    "    \"gas_per_second\": 75000000,\n",
    "    \"avg_block_time\": 13,\n",
    "    \"verbose\": False,\n",
    "    \"battery_life\": 10000,\n",
    "    \"mortal\": False,\n",
    "    \"stochasticity\": 0.05,\n",
    "    \"info_currency_window\": 30,\n",
    "    \n",
    "    \"num_sensors\": 20,\n",
    "    \"record_bytes\": 16,\n",
    "    \"record_freq\": 0.3\n",
    "}"
   ]
  },
  {
   "cell_type": "code",
   "execution_count": null,
   "metadata": {},
   "outputs": [],
   "source": [
    "fixed_params_record_freq = copy.deepcopy(fixed_params)\n",
    "del fixed_params_record_freq['record_freq']\n",
    "\n",
    "variable_params_record_freq = {\n",
    "    \"record_freq\": [0.01, 0.1, 0.3, 0.5, 0.7, 0.9, 1]\n",
    "}\n",
    "\n",
    "batch_runner_record_freq = BatchRunner(\n",
    "    SensorBlockchainNetwork,\n",
    "    variable_params_record_freq,\n",
    "    fixed_params_record_freq,\n",
    "    iterations = 1,\n",
    "    max_steps = 300,\n",
    "    model_reporters = {\"data_collector\": get_datacollector,\n",
    "                      \"agent_expiry_ticks\": get_agent_expiry_ticks,\n",
    "                      \"mining_summary\": get_mining_summary},\n",
    "        \n",
    "                      agent_reporters = {\"expiry_ticks\": \"dead\"}\n",
    "\n",
    ")\n",
    "\n",
    "batch_runner_record_freq.run_all()\n",
    "pickle_batch_run_results(batch_runner_record_freq, './data/run-4/batch_run_1_record_freq.pkl')"
   ]
  },
  {
   "cell_type": "code",
   "execution_count": null,
   "metadata": {},
   "outputs": [],
   "source": [
    "fixed_params_num_sensors = copy.deepcopy(fixed_params)\n",
    "del fixed_params_num_sensors['num_sensors']\n",
    "\n",
    "variable_params_num_sensors = {\n",
    "    \"num_sensors\": np.arange(0, 501, 25)[1:]\n",
    "}\n",
    "\n",
    "batch_runner_num_sensors = BatchRunner(\n",
    "    SensorBlockchainNetwork,\n",
    "    variable_params_num_sensors,\n",
    "    fixed_params_num_sensors,\n",
    "    iterations = 1,\n",
    "    max_steps = 300,\n",
    "    \n",
    "    model_reporters = {\"agent_vars_by_tick\": get_agent_vars_by_tick,\n",
    "                   \"model_vars_by_tick\": get_model_vars_by_tick,\n",
    "                   \"mining_summary\": get_mining_summary},\n",
    "\n",
    "    agent_reporters = {\"expiry_ticks\": \"dead\"}\n",
    ")\n",
    "\n",
    "batch_runner_num_sensors.run_all()\n",
    "pickle_batch_run_results(batch_runner_num_sensors, './data/run-4/batch_run_full_sweep_sensors.pkl')"
   ]
  },
  {
   "cell_type": "code",
   "execution_count": null,
   "metadata": {},
   "outputs": [],
   "source": [
    "fixed_params_record_bytes = copy.deepcopy(fixed_params)\n",
    "del fixed_params_record_bytes['record_bytes']\n",
    "\n",
    "variable_params_record_bytes = {\n",
    "    \"record_bytes\": np.arange(1, 520, 20)\n",
    "}\n",
    "\n",
    "batch_runner_record_bytes = BatchRunner(\n",
    "    SensorBlockchainNetwork,\n",
    "    variable_params_record_bytes,\n",
    "    fixed_params_record_bytes,\n",
    "    iterations = 1,\n",
    "    max_steps = 300,\n",
    "    model_reporters = {\"agent_vars_by_tick\": get_agent_vars_by_tick,\n",
    "                       \"model_vars_by_tick\": get_model_vars_by_tick,\n",
    "                       \"mining_summary\": get_mining_summary},\n",
    "    \n",
    "    agent_reporters = {\"expiry_ticks\": \"dead\"}\n",
    ")\n",
    "\n",
    "batch_runner_record_bytes.run_all()\n",
    "pickle_batch_run_results(batch_runner_record_bytes, './data/run-4/batch_run_1_record_bytes.pkl')"
   ]
  }
 ],
 "metadata": {
  "kernelspec": {
   "display_name": "Python 3",
   "language": "python",
   "name": "python3"
  },
  "language_info": {
   "codemirror_mode": {
    "name": "ipython",
    "version": 3
   },
   "file_extension": ".py",
   "mimetype": "text/x-python",
   "name": "python",
   "nbconvert_exporter": "python",
   "pygments_lexer": "ipython3",
   "version": "3.6.8"
  }
 },
 "nbformat": 4,
 "nbformat_minor": 2
}
